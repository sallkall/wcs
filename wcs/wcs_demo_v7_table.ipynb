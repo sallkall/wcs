{
 "cells": [
  {
   "cell_type": "markdown",
   "metadata": {
    "collapsed": true,
    "deletable": true,
    "editable": true
   },
   "source": [
    "# World Color Survey (WCS) Analysis: Demo & Starter Code\n",
    "\n",
    "Spring 2017, COGSCI 88: Data Science and the Mind (Yang Xu)\n",
    "\n",
    "Data source: http://www1.icsi.berkeley.edu/wcs/data.html\n",
    "\n",
    "______________________________________________\n",
    "\n",
    "  *Courtesy of Joshua Abbott, Vasilis Oikonomou, Jessie Salas, and Janaki Vivrekar; $\\alpha$-tested by Janaki Vivrekar and Yang Xu*  \n",
    "  \n",
    "  Copyright @ 2017, UC Berkeley\n"
   ]
  },
  {
   "cell_type": "code",
   "execution_count": 1,
   "metadata": {
    "collapsed": false,
    "deletable": true,
    "editable": true
   },
   "outputs": [],
   "source": [
    "# Import helper function file for WCS data analysis\n",
    "from wcs_helper_functions import *\n",
    "\n",
    "# Import relevant Python libraries\n",
    "import numpy as np\n",
    "from scipy import stats\n",
    "from random import random\n",
    "import operator\n",
    "from datascience import *\n",
    "%matplotlib inline"
   ]
  },
  {
   "cell_type": "markdown",
   "metadata": {
    "deletable": true,
    "editable": true
   },
   "source": [
    "## Demo 1: Import stimulus (color chip) information in [Munsell space](https://en.wikipedia.org/wiki/Munsell_color_system)\n",
    "\n",
    "> Stimuli were 330 color chips in Munsell space, each defined along lightness and hue dimensions\n",
    "\n",
    "> Each color chip has an index (from 1 to 330) and a coordinate (lightness *(alphabet)*, hue *(integer)*)\n",
    "\n",
    "In the following demo, we see how to convert from (a) index to coordinate and (b) coordinate to index."
   ]
  },
  {
   "cell_type": "code",
   "execution_count": 2,
   "metadata": {
    "collapsed": false,
    "deletable": true,
    "editable": true
   },
   "outputs": [],
   "source": [
    "# Load chip information in Munsell space\n",
    "# `munsellInfo` is a 2-element tuple with dictionary elements\n",
    "munsellInfo = readChipData('./WCS_data_core/chip.txt');"
   ]
  },
  {
   "cell_type": "markdown",
   "metadata": {
    "deletable": true,
    "editable": true
   },
   "source": [
    "### (a) Index `-->` Coordinate"
   ]
  },
  {
   "cell_type": "code",
   "execution_count": 3,
   "metadata": {
    "collapsed": false,
    "deletable": true,
    "editable": true
   },
   "outputs": [
    {
     "name": "stdout",
     "output_type": "stream",
     "text": [
      "('E', '29')\n"
     ]
    }
   ],
   "source": [
    "# Access the second dictionary in `munsellInfo`\n",
    "indexCoord = munsellInfo[1]\n",
    "\n",
    "# `indexCoord` is a dictionary with index (key) --> coordinate (value) pairs\n",
    "# For example, to retrieve the Munsell coordinate (lightness, hue) for chip with numerical index 1:\n",
    "print(indexCoord[1])\n",
    "\n",
    "# You can also uncomment the following to display full stimulus information (long)\n",
    "# print(indexCoord)"
   ]
  },
  {
   "cell_type": "code",
   "execution_count": 4,
   "metadata": {
    "collapsed": false
   },
   "outputs": [
    {
     "data": {
      "text/html": [
       "<table border=\"1\" class=\"dataframe\">\n",
       "    <thead>\n",
       "        <tr>\n",
       "            <th>Index</th> <th>Coordinates</th>\n",
       "        </tr>\n",
       "    </thead>\n",
       "    <tbody>\n",
       "        <tr>\n",
       "            <td>1    </td> <td>['E' '29'] </td>\n",
       "        </tr>\n",
       "    </tbody>\n",
       "        <tr>\n",
       "            <td>2    </td> <td>['C' '23'] </td>\n",
       "        </tr>\n",
       "    </tbody>\n",
       "        <tr>\n",
       "            <td>3    </td> <td>['F' '4']  </td>\n",
       "        </tr>\n",
       "    </tbody>\n",
       "        <tr>\n",
       "            <td>4    </td> <td>['I' '36'] </td>\n",
       "        </tr>\n",
       "    </tbody>\n",
       "        <tr>\n",
       "            <td>5    </td> <td>['C' '20'] </td>\n",
       "        </tr>\n",
       "    </tbody>\n",
       "        <tr>\n",
       "            <td>6    </td> <td>['C' '6']  </td>\n",
       "        </tr>\n",
       "    </tbody>\n",
       "        <tr>\n",
       "            <td>7    </td> <td>['E' '15'] </td>\n",
       "        </tr>\n",
       "    </tbody>\n",
       "        <tr>\n",
       "            <td>8    </td> <td>['H' '40'] </td>\n",
       "        </tr>\n",
       "    </tbody>\n",
       "        <tr>\n",
       "            <td>9    </td> <td>['G' '6']  </td>\n",
       "        </tr>\n",
       "    </tbody>\n",
       "        <tr>\n",
       "            <td>10   </td> <td>['I' '30'] </td>\n",
       "        </tr>\n",
       "    </tbody>\n",
       "</table>\n",
       "<p>... (320 rows omitted)</p"
      ],
      "text/plain": [
       "Index | Coordinates\n",
       "1     | ['E' '29']\n",
       "2     | ['C' '23']\n",
       "3     | ['F' '4']\n",
       "4     | ['I' '36']\n",
       "5     | ['C' '20']\n",
       "6     | ['C' '6']\n",
       "7     | ['E' '15']\n",
       "8     | ['H' '40']\n",
       "9     | ['G' '6']\n",
       "10    | ['I' '30']\n",
       "... (320 rows omitted)"
      ]
     },
     "execution_count": 4,
     "metadata": {},
     "output_type": "execute_result"
    }
   ],
   "source": [
    "# To represent this dictionary as a table:\n",
    "sorted_by_index = sorted(indexCoord.items(), key=operator.itemgetter(0))\n",
    "indexCoordTable = Table().with_columns('Index', [pair[0] for pair in sorted_by_index],\n",
    "                                       'Coordinates', [pair[1] for pair in sorted_by_index])\n",
    "# NOTE: When accessing columns of a Table, you will get an array.\n",
    "# For this project, it might be easier to work with lists. Use the .tolist() function on arrays.\n",
    "indexCoordTable"
   ]
  },
  {
   "cell_type": "markdown",
   "metadata": {
    "deletable": true,
    "editable": true
   },
   "source": [
    "### (b) Coordinate `-->` Index"
   ]
  },
  {
   "cell_type": "code",
   "execution_count": 5,
   "metadata": {
    "collapsed": false,
    "deletable": true,
    "editable": true
   },
   "outputs": [
    {
     "name": "stdout",
     "output_type": "stream",
     "text": [
      "258\n"
     ]
    }
   ],
   "source": [
    "# Access the first dictionary in `munsellInfo`\n",
    "coordIndex = munsellInfo[0]\n",
    "\n",
    "# `coordIndex` is a dictionary with coordinate (key) --> index (value) pairs\n",
    "# For example, to access numerical index for color chip at Munsell coordinate (D, 11):\n",
    "print(coordIndex['D11'])\n",
    "\n",
    "# You can also uncomment the following to display full stimulus information (long)\n",
    "#print(coordIndex)"
   ]
  },
  {
   "cell_type": "code",
   "execution_count": 6,
   "metadata": {
    "collapsed": false
   },
   "outputs": [
    {
     "data": {
      "text/html": [
       "<table border=\"1\" class=\"dataframe\">\n",
       "    <thead>\n",
       "        <tr>\n",
       "            <th>Index</th> <th>Coordinates</th>\n",
       "        </tr>\n",
       "    </thead>\n",
       "    <tbody>\n",
       "        <tr>\n",
       "            <td>A0   </td> <td>141        </td>\n",
       "        </tr>\n",
       "    </tbody>\n",
       "        <tr>\n",
       "            <td>B0   </td> <td>274        </td>\n",
       "        </tr>\n",
       "    </tbody>\n",
       "        <tr>\n",
       "            <td>B1   </td> <td>129        </td>\n",
       "        </tr>\n",
       "    </tbody>\n",
       "        <tr>\n",
       "            <td>B10  </td> <td>22         </td>\n",
       "        </tr>\n",
       "    </tbody>\n",
       "        <tr>\n",
       "            <td>B11  </td> <td>242        </td>\n",
       "        </tr>\n",
       "    </tbody>\n",
       "        <tr>\n",
       "            <td>B12  </td> <td>106        </td>\n",
       "        </tr>\n",
       "    </tbody>\n",
       "        <tr>\n",
       "            <td>B13  </td> <td>177        </td>\n",
       "        </tr>\n",
       "    </tbody>\n",
       "        <tr>\n",
       "            <td>B14  </td> <td>260        </td>\n",
       "        </tr>\n",
       "    </tbody>\n",
       "        <tr>\n",
       "            <td>B15  </td> <td>206        </td>\n",
       "        </tr>\n",
       "    </tbody>\n",
       "        <tr>\n",
       "            <td>B16  </td> <td>52         </td>\n",
       "        </tr>\n",
       "    </tbody>\n",
       "</table>\n",
       "<p>... (320 rows omitted)</p"
      ],
      "text/plain": [
       "Index | Coordinates\n",
       "A0    | 141\n",
       "B0    | 274\n",
       "B1    | 129\n",
       "B10   | 22\n",
       "B11   | 242\n",
       "B12   | 106\n",
       "B13   | 177\n",
       "B14   | 260\n",
       "B15   | 206\n",
       "B16   | 52\n",
       "... (320 rows omitted)"
      ]
     },
     "execution_count": 6,
     "metadata": {},
     "output_type": "execute_result"
    }
   ],
   "source": [
    "# To represent this dictionary as a table:\n",
    "sorted_by_index = sorted(coordIndex.items(), key=operator.itemgetter(0))\n",
    "coordIndexTable = Table().with_columns('Index', [pair[0] for pair in sorted_by_index],\n",
    "                                       'Coordinates', [pair[1] for pair in sorted_by_index])\n",
    "coordIndexTable"
   ]
  },
  {
   "cell_type": "markdown",
   "metadata": {
    "deletable": true,
    "editable": true
   },
   "source": [
    "## Demo 2: Import stimulus information in [CIELAB space](https://en.wikipedia.org/wiki/Lab_color_space)\n",
    "\n",
    "> Each of the 330 stimuli can also be mapped to the 3D CIELAB space, where the dimensions are `l` (lightness), `a`, & `b` (color opponency)\n",
    "\n",
    "> CIELAB Coordinates have a one-to-one correspondence with Munsell index, which ranges from 1 to 330."
   ]
  },
  {
   "cell_type": "code",
   "execution_count": 7,
   "metadata": {
    "collapsed": false,
    "deletable": true,
    "editable": true
   },
   "outputs": [
    {
     "name": "stdout",
     "output_type": "stream",
     "text": [
      "('61.70', '-4.52', '-39.18')\n"
     ]
    }
   ],
   "source": [
    "# Load chip coordinates in CIELAB\n",
    "# `cielabCoord` is a dictionary with index (key) --> CIELAB Coordinate (value) pairs\n",
    "cielabCoord = readClabData('./WCS_data_core/cnum-vhcm-lab-new.txt')\n",
    "\n",
    "# For example, to obtain the CEILAB coordinates for chip with numerical index 1:\n",
    "print(cielabCoord[1])"
   ]
  },
  {
   "cell_type": "code",
   "execution_count": 8,
   "metadata": {
    "collapsed": false
   },
   "outputs": [
    {
     "data": {
      "text/html": [
       "<table border=\"1\" class=\"dataframe\">\n",
       "    <thead>\n",
       "        <tr>\n",
       "            <th>Index</th> <th>Coordinates</th>\n",
       "        </tr>\n",
       "    </thead>\n",
       "    <tbody>\n",
       "        <tr>\n",
       "            <td>1    </td> <td>['61.70' '-4.52' '-39.18']</td>\n",
       "        </tr>\n",
       "    </tbody>\n",
       "        <tr>\n",
       "            <td>2    </td> <td>['81.35' '-19.64' '-4.30']</td>\n",
       "        </tr>\n",
       "    </tbody>\n",
       "        <tr>\n",
       "            <td>3    </td> <td>['51.57' '55.20' '68.32'] </td>\n",
       "        </tr>\n",
       "    </tbody>\n",
       "        <tr>\n",
       "            <td>4    </td> <td>['20.54' '24.14' '-14.33']</td>\n",
       "        </tr>\n",
       "    </tbody>\n",
       "        <tr>\n",
       "            <td>5    </td> <td>['81.35' '-33.04' '4.96'] </td>\n",
       "        </tr>\n",
       "    </tbody>\n",
       "        <tr>\n",
       "            <td>6    </td> <td>['81.35' '14.87' '30.96'] </td>\n",
       "        </tr>\n",
       "    </tbody>\n",
       "        <tr>\n",
       "            <td>7    </td> <td>['61.70' '-46.97' '64.65']</td>\n",
       "        </tr>\n",
       "    </tbody>\n",
       "        <tr>\n",
       "            <td>8    </td> <td>['30.77' '47.63' '5.24']  </td>\n",
       "        </tr>\n",
       "    </tbody>\n",
       "        <tr>\n",
       "            <td>9    </td> <td>['41.22' '22.15' '41.13'] </td>\n",
       "        </tr>\n",
       "    </tbody>\n",
       "        <tr>\n",
       "            <td>10   </td> <td>['20.54' '7.63' '-35.92'] </td>\n",
       "        </tr>\n",
       "    </tbody>\n",
       "</table>\n",
       "<p>... (320 rows omitted)</p"
      ],
      "text/plain": [
       "Index | Coordinates\n",
       "1     | ['61.70' '-4.52' '-39.18']\n",
       "2     | ['81.35' '-19.64' '-4.30']\n",
       "3     | ['51.57' '55.20' '68.32']\n",
       "4     | ['20.54' '24.14' '-14.33']\n",
       "5     | ['81.35' '-33.04' '4.96']\n",
       "6     | ['81.35' '14.87' '30.96']\n",
       "7     | ['61.70' '-46.97' '64.65']\n",
       "8     | ['30.77' '47.63' '5.24']\n",
       "9     | ['41.22' '22.15' '41.13']\n",
       "10    | ['20.54' '7.63' '-35.92']\n",
       "... (320 rows omitted)"
      ]
     },
     "execution_count": 8,
     "metadata": {},
     "output_type": "execute_result"
    }
   ],
   "source": [
    "# To represent this dictionary as a table:\n",
    "sorted_by_index = sorted(cielabCoord.items(), key=operator.itemgetter(0))\n",
    "cielabCoordTable = Table().with_columns('Index', [pair[0] for pair in sorted_by_index],\n",
    "                                       'Coordinates', [pair[1] for pair in sorted_by_index])\n",
    "# NOTE: When accessing columns of a Table, you will get an array.\n",
    "# For this project, it might be easier to work with lists. Use the .tolist() function on arrays.\n",
    "cielabCoordTable"
   ]
  },
  {
   "cell_type": "markdown",
   "metadata": {
    "deletable": true,
    "editable": true
   },
   "source": [
    "## Demo 3: Import color naming data\n",
    "    \n",
    "> Each of the 330 color chips was named by speakers of 110 different languages."
   ]
  },
  {
   "cell_type": "code",
   "execution_count": 9,
   "metadata": {
    "collapsed": false,
    "deletable": true,
    "editable": true
   },
   "outputs": [],
   "source": [
    "# Load naming data\n",
    "# `namingData` is a hierarchical dictionary organized as follows:\n",
    "# language (1 - 110) --> speaker (1 - *range varies per language*) --> chip index (1 - 330)--> color term\n",
    "namingData = readNamingData('./WCS_data_core/term.txt')\n",
    "\n",
    "# For example, to obtain naming data from language 1 and speaker 1 for all 330 color chips:\n",
    "namingData[1][1]; # remove semicolon to see data in full"
   ]
  },
  {
   "cell_type": "code",
   "execution_count": 10,
   "metadata": {
    "collapsed": false,
    "deletable": true,
    "editable": true,
    "scrolled": true
   },
   "outputs": [
    {
     "data": {
      "text/plain": [
       "25"
      ]
     },
     "execution_count": 10,
     "metadata": {},
     "output_type": "execute_result"
    }
   ],
   "source": [
    "# For example, to see how many speakers language 1 has:\n",
    "len(namingData[1])"
   ]
  },
  {
   "cell_type": "markdown",
   "metadata": {
    "deletable": true,
    "editable": true
   },
   "source": [
    "## Demo 4: Import color foci data\n",
    "    \n",
    "> Apart from naming the color chips, each speaker also pointed to foci color chips for each color term they had used\n",
    "\n",
    "> Note: A single color term may have multiple foci locations"
   ]
  },
  {
   "cell_type": "code",
   "execution_count": 11,
   "metadata": {
    "collapsed": false,
    "deletable": true,
    "editable": true
   },
   "outputs": [
    {
     "data": {
      "text/plain": [
       "{'F': ['D:25'],\n",
       " 'G': ['F:17'],\n",
       " 'LB': ['J:0'],\n",
       " 'LE': ['F:1', 'F:2', 'F:3', 'G:1', 'G:2', 'G:3'],\n",
       " 'LF': ['A:0'],\n",
       " 'WK': ['D:9', 'D:10', 'D:11', 'D:12']}"
      ]
     },
     "execution_count": 11,
     "metadata": {},
     "output_type": "execute_result"
    }
   ],
   "source": [
    "# Load foci data\n",
    "# `fociData` is a hierarchical dictionary organized as follows:\n",
    "# language (1 - 110) --> speaker (1 - *range varies per language*) --> color term --> foci coordinates\n",
    "fociData = readFociData('./WCS_data_core/foci-exp.txt');\n",
    "\n",
    "# For example, to obtain foci data for language 1 and speaker 1, where each entry shows foci locations for given term:\n",
    "# e.g. foci for term 'LF' is located at coordinate (A, 0) in the Munsell chart\n",
    "fociData[1][1]"
   ]
  },
  {
   "cell_type": "markdown",
   "metadata": {
    "deletable": true,
    "editable": true
   },
   "source": [
    "## Demo 5: Import speaker demographic information\n",
    "\n",
    "> Most speakers' age (integer) and gender (M/F) information was recorded"
   ]
  },
  {
   "cell_type": "code",
   "execution_count": 12,
   "metadata": {
    "collapsed": false,
    "deletable": true,
    "editable": true
   },
   "outputs": [],
   "source": [
    "# Load speaker information\n",
    "# `speakerInfo` is a hierarchical dictionary organized by language->speaker(key)-(age,gender)(value)\n",
    "speakerInfo = readSpeakerData('./WCS_data_core/spkr-lsas.txt')\n",
    "\n",
    "# For example, uncomment the following line to access (age, gender) information for all speakers from language 1:\n",
    "#speakerInfo[1]\n",
    "\n",
    "# For example, uncomment the following line ot access (age, gender) information for speaker 1 from language 1:\n",
    "#speakerInfo[1][1]"
   ]
  },
  {
   "cell_type": "markdown",
   "metadata": {
    "deletable": true,
    "editable": true
   },
   "source": [
    "## Demo 6: Visualize color naming from an individual speaker\n",
    "\n",
    "> Naming patterns from a speaker can be visualized in the stimulus palette (Munsell space)"
   ]
  },
  {
   "cell_type": "code",
   "execution_count": 13,
   "metadata": {
    "collapsed": false,
    "deletable": true,
    "editable": true
   },
   "outputs": [],
   "source": [
    "# Extract an example speaker datum from an example language \n",
    "lg61_spk5 = namingData[61][5]"
   ]
  },
  {
   "cell_type": "code",
   "execution_count": 14,
   "metadata": {
    "collapsed": false,
    "deletable": true,
    "editable": true
   },
   "outputs": [],
   "source": [
    "# Extract color terms used by that speaker\n",
    "terms = lg61_spk5.values()\n",
    "\n",
    "# Encode the color terms into random numbers (for plotting purposes)\n",
    "encoded_terms = map_array_to(terms, generate_random_values(terms))"
   ]
  },
  {
   "cell_type": "code",
   "execution_count": 15,
   "metadata": {
    "collapsed": false,
    "deletable": true,
    "editable": true
   },
   "outputs": [
    {
     "data": {
      "image/png": "[encoded data removed]",
      "text/plain": [
       "<matplotlib.figure.Figure at 0x7faece7bc160>"
      ]
     },
     "metadata": {},
     "output_type": "display_data"
    }
   ],
   "source": [
    "# Visualize the color naming pattern for that speaker: Each color patch corresponds to extension of a color term\n",
    "# Color scheme is randomized, but the partition of the color space is invariant\n",
    "plotValues(encoded_terms)\n",
    "\n",
    "# Note: \"plotValues()\" is a generic function for visualizing various kinds of information on the chart, suited to needs"
   ]
  },
  {
   "cell_type": "markdown",
   "metadata": {
    "deletable": true,
    "editable": true
   },
   "source": [
    "Now you are in a position to start exploring this data set - enjoy!"
   ]
  }
 ],
 "metadata": {
  "anaconda-cloud": {},
  "kernelspec": {
   "display_name": "Python [default]",
   "language": "python",
   "name": "python3"
  },
  "language_info": {
   "codemirror_mode": {
    "name": "ipython",
    "version": 3
   },
   "file_extension": ".py",
   "mimetype": "text/x-python",
   "name": "python",
   "nbconvert_exporter": "python",
   "pygments_lexer": "ipython3",
   "version": "3.5.2"
  }
 },
 "nbformat": 4,
 "nbformat_minor": 1
}
